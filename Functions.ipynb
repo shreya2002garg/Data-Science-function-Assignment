{
 "cells": [
  {
   "cell_type": "markdown",
   "id": "6cef95f5",
   "metadata": {},
   "source": [
    "<h3>Question 1</h3>"
   ]
  },
  {
   "cell_type": "code",
   "execution_count": 10,
   "id": "18ea5190",
   "metadata": {},
   "outputs": [
    {
     "name": "stdout",
     "output_type": "stream",
     "text": [
      "[('Virat Kohli', 24936), ('Jack Kallis', 25534), ('Ricky Ponting', 27483), ('Sachin Tendulkar', 34357)]\n"
     ]
    }
   ],
   "source": [
    "cricketers = [('Sachin Tendulkar', 34357), \n",
    "              ('Ricky Ponting', 27483), \n",
    "              ('Jack Kallis', 25534), \n",
    "              ('Virat Kohli', 24936)]\n",
    "\n",
    "sorted_cricketers = sorted(cricketers, key=lambda x: x[1])\n",
    "print(sorted_cricketers)\n"
   ]
  },
  {
   "cell_type": "markdown",
   "id": "fb4a2c04",
   "metadata": {},
   "source": [
    "<h3>Question 2</h3>"
   ]
  },
  {
   "cell_type": "code",
   "execution_count": 4,
   "id": "bcb79abe",
   "metadata": {},
   "outputs": [
    {
     "name": "stdout",
     "output_type": "stream",
     "text": [
      "[1, 4, 9, 16, 25, 36, 49, 64, 81, 100]\n"
     ]
    }
   ],
   "source": [
    "sampleListQuestion2 = [1, 2, 3, 4, 5, 6, 7, 8, 9, 10]\n",
    "print(list(map(lambda x : x**2, sampleListQuestion2)))\n"
   ]
  },
  {
   "cell_type": "markdown",
   "id": "c6792623",
   "metadata": {},
   "source": [
    "<h3> Question 3</h3>"
   ]
  },
  {
   "cell_type": "code",
   "execution_count": 5,
   "id": "2d0c52db",
   "metadata": {},
   "outputs": [
    {
     "name": "stdout",
     "output_type": "stream",
     "text": [
      "('1', '2', '3', '4', '5', '6', '7', '8', '9', '10')\n"
     ]
    }
   ],
   "source": [
    "sampleListQuestion3 =  [1, 2, 3, 4, 5, 6, 7, 8, 9, 10]\n",
    "generatedTupleQuestion3 = tuple(map(lambda x : str(x), sampleListQuestion3))\n",
    "print(generatedTupleQuestion3)\n"
   ]
  },
  {
   "cell_type": "markdown",
   "id": "bf9b9bae",
   "metadata": {},
   "source": [
    "<h3> Question 4</h3>"
   ]
  },
  {
   "cell_type": "code",
   "execution_count": 7,
   "id": "2e9a1dd5",
   "metadata": {},
   "outputs": [
    {
     "name": "stdout",
     "output_type": "stream",
     "text": [
      "[2, 3, 6, 9, 27, 60, 90, 120, 46]\n"
     ]
    }
   ],
   "source": [
    "sampleListQuestion5 = [2, 3, 6, 9, 27, 60, 90, 120, 55, 46]\n",
    "print(list(filter(lambda x : x % 2 == 0 or x % 3 == 0, sampleListQuestion5)))\n",
    "\n"
   ]
  },
  {
   "cell_type": "markdown",
   "id": "38102fc9",
   "metadata": {},
   "source": [
    "<h3>Question 5</h3>"
   ]
  },
  {
   "cell_type": "code",
   "execution_count": 6,
   "id": "9e31c1f2",
   "metadata": {},
   "outputs": [
    {
     "name": "stdout",
     "output_type": "stream",
     "text": [
      "15511210043330985984000000\n"
     ]
    }
   ],
   "source": [
    "sampleListQuestion4 = [1, 2, 3, 4, 5, 6, 7, 8, 9, 10, 11, 12, 13, 14, 15, 16, 17, 18, 19, 20, 21, 22, 23, 24, 25]\n",
    "from functools import reduce\n",
    "print(reduce(lambda x, y : x * y, sampleListQuestion4))\n"
   ]
  },
  {
   "cell_type": "markdown",
   "id": "6ea6fca5",
   "metadata": {},
   "source": [
    "<h3>question 6 </h3>\n"
   ]
  },
  {
   "cell_type": "code",
   "execution_count": 8,
   "id": "c3f5e976",
   "metadata": {},
   "outputs": [
    {
     "name": "stdout",
     "output_type": "stream",
     "text": [
      "['php', 'aba', 'radar', 'level']\n"
     ]
    }
   ],
   "source": [
    "sampleListQuestion6 = ['python', 'php', 'aba', 'radar', 'level']\n",
    "print(list(filter(lambda x : x[::-1] == x, sampleListQuestion6)))"
   ]
  }
 ],
 "metadata": {
  "kernelspec": {
   "display_name": "Python 3 (ipykernel)",
   "language": "python",
   "name": "python3"
  },
  "language_info": {
   "codemirror_mode": {
    "name": "ipython",
    "version": 3
   },
   "file_extension": ".py",
   "mimetype": "text/x-python",
   "name": "python",
   "nbconvert_exporter": "python",
   "pygments_lexer": "ipython3",
   "version": "3.9.13"
  }
 },
 "nbformat": 4,
 "nbformat_minor": 5
}
